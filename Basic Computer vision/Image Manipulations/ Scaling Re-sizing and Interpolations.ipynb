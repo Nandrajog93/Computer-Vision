{
 "cells": [
  {
   "cell_type": "markdown",
   "metadata": {},
   "source": [
    "# Scaling Re-sizing and Interpolations"
   ]
  },
  {
   "cell_type": "markdown",
   "metadata": {},
   "source": [
    "what is Interpolations?\n",
    "\n",
    "Interpolation is a method of constructing new data points with the range of discrete set of known data points"
   ]
  },
  {
   "cell_type": "code",
   "execution_count": 2,
   "metadata": {},
   "outputs": [],
   "source": [
    "import cv2\n",
    "import numpy as np"
   ]
  },
  {
   "cell_type": "code",
   "execution_count": 10,
   "metadata": {},
   "outputs": [],
   "source": [
    "image = cv2.imread('/Users/nandrajog/alien/alien-04.jpg')"
   ]
  },
  {
   "cell_type": "code",
   "execution_count": 15,
   "metadata": {},
   "outputs": [],
   "source": [
    "#lets make image 3/4 to it's original image\n",
    "scaled_image = cv2.resize(image,None,fx=1/5,fy=1/7,interpolation=cv2.INTER_BITS2)\n",
    "\n",
    "\n",
    "#lets double the size of image\n",
    "scaled_image = cv2.resize(image,None,fx=2,fy=2,interpolation=cv2.INTER_BITS2)\n",
    "\n",
    "#re-size the image by exact dimensions\n",
    "scaled_image = cv2.resize(image,None,fx=2,fy=2,interpolation=cv2.INTER_BITS2)\n",
    "\n",
    "\n",
    "cv2.imshow('best',scaled_image)\n",
    "cv2.waitKey()\n",
    "cv2.destroyAllWindows()"
   ]
  },
  {
   "cell_type": "code",
   "execution_count": null,
   "metadata": {},
   "outputs": [],
   "source": []
  }
 ],
 "metadata": {
  "kernelspec": {
   "display_name": "Python 3",
   "language": "python",
   "name": "python3"
  },
  "language_info": {
   "codemirror_mode": {
    "name": "ipython",
    "version": 3
   },
   "file_extension": ".py",
   "mimetype": "text/x-python",
   "name": "python",
   "nbconvert_exporter": "python",
   "pygments_lexer": "ipython3",
   "version": "3.6.5"
  }
 },
 "nbformat": 4,
 "nbformat_minor": 2
}
