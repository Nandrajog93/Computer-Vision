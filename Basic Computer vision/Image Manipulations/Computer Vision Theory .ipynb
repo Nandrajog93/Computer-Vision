{
 "cells": [
  {
   "cell_type": "markdown",
   "metadata": {},
   "source": [
    "1) What are images?\n",
    "\n",
    "images are 2-D representation of visible light spectrum"
   ]
  },
  {
   "cell_type": "markdown",
   "metadata": {},
   "source": [
    "2) How do computer stores images?\n",
    "\n",
    "RGB color & open cv store these 8-bit interger which allow us to go  from 0 to 255 values & by mixing different intensity of each color we can make new color such as yellow\n",
    "\n",
    "Images are store in Multidimentional arrays\n",
    "\n",
    "\n",
    "\n",
    "FOR GREY-SCALE IMAGES THEY STORE IN 2-d ARRAY"
   ]
  },
  {
   "cell_type": "code",
   "execution_count": null,
   "metadata": {},
   "outputs": [],
   "source": []
  }
 ],
 "metadata": {
  "kernelspec": {
   "display_name": "Python 3",
   "language": "python",
   "name": "python3"
  },
  "language_info": {
   "codemirror_mode": {
    "name": "ipython",
    "version": 3
   },
   "file_extension": ".py",
   "mimetype": "text/x-python",
   "name": "python",
   "nbconvert_exporter": "python",
   "pygments_lexer": "ipython3",
   "version": "3.6.5"
  }
 },
 "nbformat": 4,
 "nbformat_minor": 2
}
