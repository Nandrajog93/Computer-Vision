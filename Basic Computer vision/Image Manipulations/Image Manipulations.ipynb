{
 "cells": [
  {
   "cell_type": "markdown",
   "metadata": {},
   "source": [
    "# Image Manipulations"
   ]
  },
  {
   "cell_type": "markdown",
   "metadata": {},
   "source": [
    "Transformations --> Geometric distrotions enacted upon an image\n",
    "\n",
    "we use Transformations to correct distrotions\n",
    "\n",
    "There are 2 type of Distrotions\n",
    "\n",
    "1) Affine  --> Includes Scaling , Roation , Translation\n",
    "(parallel of line maintained)\n",
    "\n",
    "2) Non - Affine --> called Homography \n",
    "(They does not preserve parallelism, length & angle) BUT it preserve Collinearity and incidence\n",
    "\n",
    "Collinearity means the point on lines will remian on the line\n"
   ]
  },
  {
   "cell_type": "markdown",
   "metadata": {},
   "source": [
    "# Rotations\n"
   ]
  },
  {
   "cell_type": "code",
   "execution_count": 1,
   "metadata": {},
   "outputs": [],
   "source": [
    "import cv2\n",
    "import numpy as np\n"
   ]
  },
  {
   "cell_type": "code",
   "execution_count": 11,
   "metadata": {},
   "outputs": [],
   "source": [
    "image = cv2.imread('/Users/nandrajog/alien/alien-02.jpg')\n",
    "height,width = 500,400\n",
    "\n",
    "rotation_matrix = cv2.getRotationMatrix2D((height/2,width/2),180,1)\n",
    "rotated_image = cv2.warpAffine(image,rotation_matrix,(width, height))\n",
    "\n",
    "cv2.imshow(\"rotation\",rotated_image)\n",
    "cv2.waitKey()\n",
    "cv2.destroyAllWindows()"
   ]
  },
  {
   "cell_type": "code",
   "execution_count": 3,
   "metadata": {},
   "outputs": [],
   "source": []
  },
  {
   "cell_type": "code",
   "execution_count": null,
   "metadata": {},
   "outputs": [],
   "source": []
  }
 ],
 "metadata": {
  "kernelspec": {
   "display_name": "Python 3",
   "language": "python",
   "name": "python3"
  },
  "language_info": {
   "codemirror_mode": {
    "name": "ipython",
    "version": 3
   },
   "file_extension": ".py",
   "mimetype": "text/x-python",
   "name": "python",
   "nbconvert_exporter": "python",
   "pygments_lexer": "ipython3",
   "version": "3.6.5"
  }
 },
 "nbformat": 4,
 "nbformat_minor": 2
}
