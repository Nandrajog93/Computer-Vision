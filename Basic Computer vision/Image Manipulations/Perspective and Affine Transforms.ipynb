{
 "cells": [
  {
   "cell_type": "markdown",
   "metadata": {},
   "source": [
    "# Perspective and Affine Transforms"
   ]
  },
  {
   "cell_type": "markdown",
   "metadata": {},
   "source": [
    "If the image is not in proper direction we can fix the image by some piece of code"
   ]
  },
  {
   "cell_type": "code",
   "execution_count": 2,
   "metadata": {},
   "outputs": [],
   "source": [
    "import cv2\n",
    "import numpy as np"
   ]
  },
  {
   "cell_type": "code",
   "execution_count": 5,
   "metadata": {},
   "outputs": [],
   "source": [
    "image= cv2.imread(\"/Users/nandrajog/6286.jpg\")"
   ]
  },
  {
   "cell_type": "code",
   "execution_count": 6,
   "metadata": {},
   "outputs": [
    {
     "data": {
      "text/plain": [
       "array([[[118, 105,  73],\n",
       "        [118, 105,  73],\n",
       "        [118, 105,  73],\n",
       "        ...,\n",
       "        [  3,  16,  24],\n",
       "        [  4,  16,  22],\n",
       "        [  5,  16,  20]],\n",
       "\n",
       "       [[118, 105,  73],\n",
       "        [118, 105,  73],\n",
       "        [118, 105,  73],\n",
       "        ...,\n",
       "        [  8,  21,  29],\n",
       "        [  9,  21,  27],\n",
       "        [  1,  13,  17]],\n",
       "\n",
       "       [[118, 105,  73],\n",
       "        [118, 105,  73],\n",
       "        [118, 105,  73],\n",
       "        ...,\n",
       "        [ 14,  27,  35],\n",
       "        [  9,  23,  29],\n",
       "        [  0,  10,  16]],\n",
       "\n",
       "       ...,\n",
       "\n",
       "       [[ 79,  58,  57],\n",
       "        [ 79,  58,  57],\n",
       "        [ 79,  58,  57],\n",
       "        ...,\n",
       "        [  0,   1,  10],\n",
       "        [  0,   2,  11],\n",
       "        [  9,  16,  25]],\n",
       "\n",
       "       [[ 82,  58,  58],\n",
       "        [ 81,  60,  59],\n",
       "        [ 83,  62,  61],\n",
       "        ...,\n",
       "        [  0,   4,  13],\n",
       "        [  0,   0,   8],\n",
       "        [  0,   0,   9]],\n",
       "\n",
       "       [[ 83,  59,  59],\n",
       "        [ 85,  61,  61],\n",
       "        [ 86,  65,  64],\n",
       "        ...,\n",
       "        [ 12,  21,  30],\n",
       "        [  9,  16,  25],\n",
       "        [  0,   4,  13]]], dtype=uint8)"
      ]
     },
     "execution_count": 6,
     "metadata": {},
     "output_type": "execute_result"
    }
   ],
   "source": []
  },
  {
   "cell_type": "code",
   "execution_count": null,
   "metadata": {},
   "outputs": [],
   "source": []
  }
 ],
 "metadata": {
  "kernelspec": {
   "display_name": "Python 3",
   "language": "python",
   "name": "python3"
  },
  "language_info": {
   "codemirror_mode": {
    "name": "ipython",
    "version": 3
   },
   "file_extension": ".py",
   "mimetype": "text/x-python",
   "name": "python",
   "nbconvert_exporter": "python",
   "pygments_lexer": "ipython3",
   "version": "3.6.5"
  }
 },
 "nbformat": 4,
 "nbformat_minor": 2
}
