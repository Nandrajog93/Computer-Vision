{
 "cells": [
  {
   "cell_type": "markdown",
   "metadata": {},
   "source": [
    "# Finding Waldo --> object Detection"
   ]
  },
  {
   "cell_type": "code",
   "execution_count": 28,
   "metadata": {},
   "outputs": [],
   "source": [
    "import cv2\n",
    "import numpy as np "
   ]
  },
  {
   "cell_type": "code",
   "execution_count": 29,
   "metadata": {},
   "outputs": [],
   "source": [
    "image = cv2.imread('/Users/nandrajog/waldo.jpg')"
   ]
  },
  {
   "cell_type": "code",
   "execution_count": 30,
   "metadata": {},
   "outputs": [
    {
     "data": {
      "text/plain": [
       "array([[[ 30, 131, 139],\n",
       "        [ 30, 134, 141],\n",
       "        [ 28, 136, 140],\n",
       "        ...,\n",
       "        [ 61, 136, 134],\n",
       "        [ 58, 137, 134],\n",
       "        [ 52, 133, 130]],\n",
       "\n",
       "       [[ 80, 186, 193],\n",
       "        [ 79, 186, 193],\n",
       "        [ 75, 187, 193],\n",
       "        ...,\n",
       "        [110, 187, 189],\n",
       "        [108, 190, 191],\n",
       "        [105, 188, 189]],\n",
       "\n",
       "       [[120, 236, 243],\n",
       "        [117, 234, 241],\n",
       "        [112, 235, 239],\n",
       "        ...,\n",
       "        [151, 235, 240],\n",
       "        [150, 239, 243],\n",
       "        [148, 239, 243]],\n",
       "\n",
       "       ...,\n",
       "\n",
       "       [[ 61, 102, 117],\n",
       "        [ 64, 109, 123],\n",
       "        [ 70, 123, 136],\n",
       "        ...,\n",
       "        [ 71, 105, 148],\n",
       "        [ 83, 115, 158],\n",
       "        [ 94, 126, 169]],\n",
       "\n",
       "       [[ 55,  89, 105],\n",
       "        [ 62, 101, 116],\n",
       "        [ 71, 118, 132],\n",
       "        ...,\n",
       "        [ 49,  77, 118],\n",
       "        [ 54,  82, 123],\n",
       "        [ 63,  89, 129]],\n",
       "\n",
       "       [[ 44,  73,  88],\n",
       "        [ 54,  87, 102],\n",
       "        [ 62, 104, 117],\n",
       "        ...,\n",
       "        [ 26,  51,  91],\n",
       "        [ 31,  54,  92],\n",
       "        [ 37,  60,  98]]], dtype=uint8)"
      ]
     },
     "execution_count": 30,
     "metadata": {},
     "output_type": "execute_result"
    }
   ],
   "source": [
    "image"
   ]
  },
  {
   "cell_type": "code",
   "execution_count": 31,
   "metadata": {},
   "outputs": [],
   "source": [
    "Greyscale = cv2.cvtColor(image,cv2.COLOR_BGR2GRAY)"
   ]
  },
  {
   "cell_type": "code",
   "execution_count": 32,
   "metadata": {},
   "outputs": [],
   "source": [
    "#Load Template\n",
    "Load_template = cv2.imread('/Users/nandrajog/Waldo_temp.jpg',0)"
   ]
  },
  {
   "cell_type": "code",
   "execution_count": 33,
   "metadata": {},
   "outputs": [],
   "source": [
    "result = cv2.matchTemplate(Greyscale,Load_template,cv2.TM_CCOEFF)\n",
    "min_val, max_val, min_loc, max_loc = cv2.minMaxLoc(result)"
   ]
  },
  {
   "cell_type": "code",
   "execution_count": 34,
   "metadata": {},
   "outputs": [
    {
     "data": {
      "text/plain": [
       "array([[[ 30, 131, 139],\n",
       "        [ 30, 134, 141],\n",
       "        [ 28, 136, 140],\n",
       "        ...,\n",
       "        [ 61, 136, 134],\n",
       "        [ 58, 137, 134],\n",
       "        [ 52, 133, 130]],\n",
       "\n",
       "       [[ 80, 186, 193],\n",
       "        [ 79, 186, 193],\n",
       "        [ 75, 187, 193],\n",
       "        ...,\n",
       "        [110, 187, 189],\n",
       "        [108, 190, 191],\n",
       "        [105, 188, 189]],\n",
       "\n",
       "       [[120, 236, 243],\n",
       "        [117, 234, 241],\n",
       "        [112, 235, 239],\n",
       "        ...,\n",
       "        [151, 235, 240],\n",
       "        [150, 239, 243],\n",
       "        [148, 239, 243]],\n",
       "\n",
       "       ...,\n",
       "\n",
       "       [[ 61, 102, 117],\n",
       "        [ 64, 109, 123],\n",
       "        [ 70, 123, 136],\n",
       "        ...,\n",
       "        [ 71, 105, 148],\n",
       "        [ 83, 115, 158],\n",
       "        [ 94, 126, 169]],\n",
       "\n",
       "       [[ 55,  89, 105],\n",
       "        [ 62, 101, 116],\n",
       "        [ 71, 118, 132],\n",
       "        ...,\n",
       "        [ 49,  77, 118],\n",
       "        [ 54,  82, 123],\n",
       "        [ 63,  89, 129]],\n",
       "\n",
       "       [[ 44,  73,  88],\n",
       "        [ 54,  87, 102],\n",
       "        [ 62, 104, 117],\n",
       "        ...,\n",
       "        [ 26,  51,  91],\n",
       "        [ 31,  54,  92],\n",
       "        [ 37,  60,  98]]], dtype=uint8)"
      ]
     },
     "execution_count": 34,
     "metadata": {},
     "output_type": "execute_result"
    }
   ],
   "source": [
    "#Create Bounding Image\n",
    "\n",
    "top_left = max_loc\n",
    "bottom_right = (top_left[0]+ 50, top_left[1]+50)\n",
    "cv2.rectangle(image,top_left,bottom_right,(0,0,255),5)"
   ]
  },
  {
   "cell_type": "code",
   "execution_count": 35,
   "metadata": {},
   "outputs": [],
   "source": [
    "cv2.imshow('Where is waldo?',image)\n",
    "cv2.waitKey(0)\n",
    "cv2.destroyAllWindows()"
   ]
  },
  {
   "cell_type": "code",
   "execution_count": null,
   "metadata": {},
   "outputs": [],
   "source": []
  }
 ],
 "metadata": {
  "kernelspec": {
   "display_name": "Python 3",
   "language": "python",
   "name": "python3"
  },
  "language_info": {
   "codemirror_mode": {
    "name": "ipython",
    "version": 3
   },
   "file_extension": ".py",
   "mimetype": "text/x-python",
   "name": "python",
   "nbconvert_exporter": "python",
   "pygments_lexer": "ipython3",
   "version": "3.6.5"
  }
 },
 "nbformat": 4,
 "nbformat_minor": 2
}
