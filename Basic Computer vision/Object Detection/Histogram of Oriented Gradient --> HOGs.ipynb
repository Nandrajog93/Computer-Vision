{
 "cells": [
  {
   "cell_type": "markdown",
   "metadata": {},
   "source": [
    "# Histogram of Oriented Gradient --> HOGs"
   ]
  },
  {
   "cell_type": "markdown",
   "metadata": {},
   "source": [
    "HOGs are feature detector that are used for feature detector"
   ]
  },
  {
   "cell_type": "markdown",
   "metadata": {},
   "source": [
    "HOGs represent the objects as a single feature machine as opposed to a set of Feature vectors whereeach represent a segment of a image"
   ]
  },
  {
   "cell_type": "markdown",
   "metadata": {},
   "source": [
    "HOGs is used by SVM classifier "
   ]
  },
  {
   "cell_type": "code",
   "execution_count": null,
   "metadata": {},
   "outputs": [],
   "source": []
  }
 ],
 "metadata": {
  "kernelspec": {
   "display_name": "Python 3",
   "language": "python",
   "name": "python3"
  },
  "language_info": {
   "codemirror_mode": {
    "name": "ipython",
    "version": 3
   },
   "file_extension": ".py",
   "mimetype": "text/x-python",
   "name": "python",
   "nbconvert_exporter": "python",
   "pygments_lexer": "ipython3",
   "version": "3.6.5"
  }
 },
 "nbformat": 4,
 "nbformat_minor": 2
}
