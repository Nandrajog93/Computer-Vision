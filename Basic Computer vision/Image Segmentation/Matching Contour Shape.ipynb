{
 "cells": [
  {
   "cell_type": "markdown",
   "metadata": {},
   "source": [
    "# Matching Contour Shape"
   ]
  },
  {
   "cell_type": "code",
   "execution_count": 2,
   "metadata": {},
   "outputs": [],
   "source": [
    "import cv2\n",
    "import numpy as np "
   ]
  },
  {
   "cell_type": "code",
   "execution_count": 3,
   "metadata": {},
   "outputs": [],
   "source": [
    "#load template\n",
    "\n",
    "template = cv2.imread(\"/Users/nandrajog/triangle.jpg\",0)\n",
    "#cv2.imshow('threshold1',template)\n",
    "#cv2.waitKey(0)\n",
    "#cv2.destroyAllWindows()"
   ]
  },
  {
   "cell_type": "code",
   "execution_count": 4,
   "metadata": {},
   "outputs": [],
   "source": [
    "target = cv2.imread(\"/Users/nandrajog/shapes.jpg\",0)"
   ]
  },
  {
   "cell_type": "code",
   "execution_count": 5,
   "metadata": {},
   "outputs": [],
   "source": [
    "#threshold both the images\n",
    "\n",
    "_,threshold1 = cv2.threshold(template,127,255,0)\n",
    "_,threshold2 = cv2.threshold(target,127,255,0)"
   ]
  },
  {
   "cell_type": "code",
   "execution_count": 6,
   "metadata": {},
   "outputs": [],
   "source": [
    "#Find the contours in template\n",
    "\n",
    "_,contours,hierarchy = cv2.findContours(threshold1,cv2.RETR_CCOMP,cv2.CHAIN_APPROX_SIMPLE)\n"
   ]
  },
  {
   "cell_type": "code",
   "execution_count": 7,
   "metadata": {},
   "outputs": [],
   "source": [
    "#Lets Sort the contours\n",
    "Sorting = sorted(contours, key=cv2.contourArea,reverse=True)"
   ]
  },
  {
   "cell_type": "code",
   "execution_count": 8,
   "metadata": {},
   "outputs": [
    {
     "data": {
      "text/plain": [
       "[array([[[  0,   0]],\n",
       " \n",
       "        [[  0, 599]],\n",
       " \n",
       "        [[599, 599]],\n",
       " \n",
       "        [[599,   0]]], dtype=int32), array([[[295,  74]],\n",
       " \n",
       "        [[296,  73]],\n",
       " \n",
       "        [[297,  74]],\n",
       " \n",
       "        ...,\n",
       " \n",
       "        [[290,  79]],\n",
       " \n",
       "        [[290,  78]],\n",
       " \n",
       "        [[294,  74]]], dtype=int32), array([[[296,  94]],\n",
       " \n",
       "        [[296,  95]],\n",
       " \n",
       "        [[295,  96]],\n",
       " \n",
       "        ...,\n",
       " \n",
       "        [[298,  96]],\n",
       " \n",
       "        [[298,  95]],\n",
       " \n",
       "        [[297,  94]]], dtype=int32)]"
      ]
     },
     "execution_count": 8,
     "metadata": {},
     "output_type": "execute_result"
    }
   ],
   "source": [
    "Sorting"
   ]
  },
  {
   "cell_type": "code",
   "execution_count": 9,
   "metadata": {},
   "outputs": [],
   "source": [
    "#Extract the contours\n",
    "\n",
    "template_contours = contours[1]"
   ]
  },
  {
   "cell_type": "code",
   "execution_count": 10,
   "metadata": {},
   "outputs": [
    {
     "data": {
      "text/plain": [
       "array([[[  0,   0]],\n",
       "\n",
       "       [[  0, 599]],\n",
       "\n",
       "       [[599, 599]],\n",
       "\n",
       "       [[599,   0]]], dtype=int32)"
      ]
     },
     "execution_count": 10,
     "metadata": {},
     "output_type": "execute_result"
    }
   ],
   "source": [
    "template_contours"
   ]
  },
  {
   "cell_type": "code",
   "execution_count": 11,
   "metadata": {},
   "outputs": [],
   "source": [
    "#Extract contours from second target image\n",
    "\n",
    "_,contours,hierarchy = cv2.findContours(threshold2,cv2.RETR_CCOMP,cv2.CHAIN_APPROX_SIMPLE)"
   ]
  },
  {
   "cell_type": "code",
   "execution_count": 12,
   "metadata": {},
   "outputs": [
    {
     "name": "stdout",
     "output_type": "stream",
     "text": [
      "1.7976931348623157e+308\n",
      "1.7976931348623157e+308\n",
      "1.7976931348623157e+308\n",
      "0.2457981423987894\n",
      "1.7976931348623157e+308\n",
      "1.7976931348623157e+308\n",
      "1.7976931348623157e+308\n",
      "1.7976931348623157e+308\n",
      "1.7976931348623157e+308\n",
      "1.7976931348623157e+308\n",
      "1.7976931348623157e+308\n",
      "0.2457981423987894\n",
      "1.7976931348623157e+308\n",
      "1.7976931348623157e+308\n",
      "1.7976931348623157e+308\n",
      "1.7976931348623157e+308\n",
      "1.7976931348623157e+308\n",
      "1.7976931348623157e+308\n",
      "1.7976931348623157e+308\n",
      "1.7976931348623157e+308\n",
      "1.7976931348623157e+308\n",
      "1.7976931348623157e+308\n",
      "1.7976931348623157e+308\n",
      "1.7976931348623157e+308\n",
      "1.7976931348623157e+308\n",
      "1.7976931348623157e+308\n",
      "1.7976931348623157e+308\n",
      "1.7976931348623157e+308\n",
      "1.7976931348623157e+308\n",
      "1.7976931348623157e+308\n",
      "1.7976931348623157e+308\n",
      "1.7976931348623157e+308\n",
      "1.7976931348623157e+308\n",
      "1.7976931348623157e+308\n",
      "1.7976931348623157e+308\n",
      "1.7976931348623157e+308\n",
      "1.7976931348623157e+308\n",
      "1.7976931348623157e+308\n",
      "1.7976931348623157e+308\n",
      "1.7976931348623157e+308\n",
      "1.7976931348623157e+308\n",
      "1.7976931348623157e+308\n",
      "1.7976931348623157e+308\n",
      "1.7976931348623157e+308\n",
      "1.7976931348623157e+308\n",
      "1.7976931348623157e+308\n",
      "1.7976931348623157e+308\n",
      "1.7976931348623157e+308\n",
      "1.7976931348623157e+308\n",
      "1.7976931348623157e+308\n",
      "1.7976931348623157e+308\n",
      "1.7976931348623157e+308\n",
      "1.7976931348623157e+308\n",
      "1.7976931348623157e+308\n",
      "1.7976931348623157e+308\n",
      "1.7976931348623157e+308\n",
      "1.0624929404778067\n",
      "10.267936657967805\n",
      "1.7976931348623157e+308\n",
      "1.7976931348623157e+308\n",
      "1.7976931348623157e+308\n",
      "1.7976931348623157e+308\n",
      "1.7976931348623157e+308\n",
      "1.7976931348623157e+308\n",
      "1.7976931348623157e+308\n",
      "1.7976931348623157e+308\n",
      "1.7976931348623157e+308\n",
      "1.7976931348623157e+308\n",
      "1.7976931348623157e+308\n",
      "1.7976931348623157e+308\n",
      "1.7976931348623157e+308\n",
      "1.7976931348623157e+308\n",
      "1.7976931348623157e+308\n",
      "1.7976931348623157e+308\n",
      "1.7976931348623157e+308\n",
      "1.7976931348623157e+308\n",
      "1.7976931348623157e+308\n",
      "1.7976931348623157e+308\n",
      "1.7976931348623157e+308\n",
      "1.7976931348623157e+308\n",
      "1.7976931348623157e+308\n",
      "1.7976931348623157e+308\n",
      "1.7976931348623157e+308\n",
      "1.7976931348623157e+308\n",
      "1.7976931348623157e+308\n",
      "0.24579814106576547\n",
      "1.7976931348623157e+308\n",
      "1.7976931348623157e+308\n",
      "0.029484081183128286\n",
      "0.16155684780216717\n",
      "4.174771639497976e-11\n",
      "0.2585474563316632\n",
      "0.1615568477733933\n",
      "1.0436762565291247e-11\n",
      "2.7154662591761785\n",
      "2.5616140474084017\n",
      "5.7331039105951\n",
      "2.332385586346322\n",
      "2.174593824236347\n",
      "2.15976831554764\n",
      "0.02459815685090616\n",
      "0.019834493902509465\n",
      "0.03176818678597826\n"
     ]
    }
   ],
   "source": [
    "for i in contours:\n",
    "    match = cv2.matchShapes(template_contours,i,1,0.0)\n",
    "    print(match)\n",
    "    \n",
    "    if match<0.15:\n",
    "        closest_contours = i\n",
    "    else:\n",
    "        closest_contours = []\n",
    "        \n"
   ]
  },
  {
   "cell_type": "code",
   "execution_count": null,
   "metadata": {},
   "outputs": [],
   "source": [
    "cv2.drawContours(target,closest_contours,-1,(0,255,0),3)\n",
    "cv2.imshow(\"output\",target)\n",
    "cv2.waitKey(0)\n",
    "cv2.destroyAllWindows()"
   ]
  }
 ],
 "metadata": {
  "kernelspec": {
   "display_name": "Python 3",
   "language": "python",
   "name": "python3"
  },
  "language_info": {
   "codemirror_mode": {
    "name": "ipython",
    "version": 3
   },
   "file_extension": ".py",
   "mimetype": "text/x-python",
   "name": "python",
   "nbconvert_exporter": "python",
   "pygments_lexer": "ipython3",
   "version": "3.6.5"
  }
 },
 "nbformat": 4,
 "nbformat_minor": 2
}
