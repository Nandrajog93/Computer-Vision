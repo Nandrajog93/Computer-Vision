{
 "cells": [
  {
   "cell_type": "markdown",
   "metadata": {},
   "source": [
    "# Sorting Contours"
   ]
  },
  {
   "cell_type": "markdown",
   "metadata": {},
   "source": [
    "Sorting contours is useful for IMAGE PROCESSING\n",
    "\n",
    "Sorting can assist in OBJECT Recognition\n",
    "\n",
    "--> Extract noise\n",
    "--> Extract Large Contours\n",
    "\n",
    "\n",
    "\n",
    "\n",
    "Sorting by spartial position --> Using contours centroid\n",
    "\n",
    "* Sort contours LEFT TO RIGHT\n",
    "* Process image in specific order"
   ]
  },
  {
   "cell_type": "code",
   "execution_count": 24,
   "metadata": {},
   "outputs": [],
   "source": [
    "import cv2\n",
    "import numpy as np "
   ]
  },
  {
   "cell_type": "code",
   "execution_count": 25,
   "metadata": {},
   "outputs": [],
   "source": [
    "image = cv2.imread(\"/Users/nandrajog/shapes.jpg\")\n",
    "\n",
    "#cv2.imshow(\"original\",image)\n"
   ]
  },
  {
   "cell_type": "code",
   "execution_count": 26,
   "metadata": {},
   "outputs": [],
   "source": [
    "#Create a black image with same dimension as our loaded image\n",
    "\n",
    "black_image = np.zeros((image.shape[0],image.shape[1],3))\n"
   ]
  },
  {
   "cell_type": "code",
   "execution_count": 27,
   "metadata": {},
   "outputs": [],
   "source": [
    "#GrayScale_image\n",
    "\n",
    "GrayScale_image = cv2.imread(\"/Users/nandrajog/shapes.jpg\",0)\n"
   ]
  },
  {
   "cell_type": "code",
   "execution_count": 28,
   "metadata": {},
   "outputs": [],
   "source": [
    "#Canny Edges\n",
    "Canny_edges = cv2.Canny(GrayScale_image, 30,80)"
   ]
  },
  {
   "cell_type": "code",
   "execution_count": 29,
   "metadata": {},
   "outputs": [
    {
     "name": "stdout",
     "output_type": "stream",
     "text": [
      "7\n"
     ]
    }
   ],
   "source": [
    "#Find Countours\n",
    "\n",
    "_,contours,hierarchy = cv2.findContours(Canny_edges,cv2.RETR_EXTERNAL,cv2.CHAIN_APPROX_NONE)\n",
    "print(len(contours))"
   ]
  },
  {
   "cell_type": "code",
   "execution_count": 30,
   "metadata": {},
   "outputs": [],
   "source": [
    "draw_countours = cv2.drawContours(black_image,contours,-1,(0,255,0),3)\n",
    "cv2.imshow(\"draw_countours\",draw_countours)\n",
    "cv2.waitKey(0)\n",
    "cv2.destroyAllWindows()"
   ]
  },
  {
   "cell_type": "code",
   "execution_count": 31,
   "metadata": {},
   "outputs": [],
   "source": [
    "draw_countours_1 = cv2.drawContours(GrayScale_image,contours,-1,(0,255,0),3)\n",
    "cv2.imshow(\"draw_countours\",draw_countours)\n",
    "cv2.waitKey(0)\n",
    "cv2.destroyAllWindows()"
   ]
  },
  {
   "cell_type": "markdown",
   "metadata": {},
   "source": [
    "# Let's now sort by area"
   ]
  },
  {
   "cell_type": "code",
   "execution_count": 32,
   "metadata": {},
   "outputs": [],
   "source": [
    "image = cv2.imread(\"/Users/nandrajog/shapes.jpg\")"
   ]
  },
  {
   "cell_type": "code",
   "execution_count": 33,
   "metadata": {},
   "outputs": [],
   "source": [
    "original_image=image.copy()"
   ]
  },
  {
   "cell_type": "code",
   "execution_count": 34,
   "metadata": {},
   "outputs": [],
   "source": [
    "def get_contour_area(contours):\n",
    "    all_areas=[]\n",
    "    for cnt in contours:\n",
    "        area = cv2.contourArea(cnt)\n",
    "        all_areas.append(area)\n",
    "    return all_areas"
   ]
  },
  {
   "cell_type": "code",
   "execution_count": 35,
   "metadata": {},
   "outputs": [
    {
     "name": "stdout",
     "output_type": "stream",
     "text": [
      "[48944.0, 28618.0, 33154.5, 0.0, 29210.0, 38999.0, 20350.5]\n"
     ]
    }
   ],
   "source": [
    "print(get_contour_area(contours))"
   ]
  },
  {
   "cell_type": "code",
   "execution_count": 36,
   "metadata": {},
   "outputs": [],
   "source": [
    "#Sorted contour\n",
    "sorted_contour = sorted(contours, key = cv2.contourArea,reverse=True)"
   ]
  },
  {
   "cell_type": "code",
   "execution_count": 37,
   "metadata": {},
   "outputs": [
    {
     "name": "stdout",
     "output_type": "stream",
     "text": [
      "[48944.0, 38999.0, 33154.5, 29210.0, 28618.0, 20350.5, 0.0]\n"
     ]
    }
   ],
   "source": [
    "print(get_contour_area(sorted_contour))"
   ]
  },
  {
   "cell_type": "code",
   "execution_count": 38,
   "metadata": {},
   "outputs": [],
   "source": [
    "#Iterate Over our contour and draw one at a time\n",
    "for c in sorted_contour:\n",
    "    cv2.drawContours(original_image,[c],-1,(0,0,255),3)\n",
    "    cv2.waitKey(0)\n",
    "    cv2.imshow(\"contour_by_area\",original_image)\n",
    "    \n",
    "cv2.waitKey(0)\n",
    "cv2.destroyAllWindows()\n"
   ]
  },
  {
   "cell_type": "code",
   "execution_count": null,
   "metadata": {},
   "outputs": [],
   "source": []
  },
  {
   "cell_type": "code",
   "execution_count": null,
   "metadata": {},
   "outputs": [],
   "source": []
  }
 ],
 "metadata": {
  "kernelspec": {
   "display_name": "Python 3",
   "language": "python",
   "name": "python3"
  },
  "language_info": {
   "codemirror_mode": {
    "name": "ipython",
    "version": 3
   },
   "file_extension": ".py",
   "mimetype": "text/x-python",
   "name": "python",
   "nbconvert_exporter": "python",
   "pygments_lexer": "ipython3",
   "version": "3.6.5"
  }
 },
 "nbformat": 4,
 "nbformat_minor": 2
}
